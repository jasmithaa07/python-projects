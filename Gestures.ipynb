{
  "nbformat": 4,
  "nbformat_minor": 0,
  "metadata": {
    "colab": {
      "provenance": [],
      "authorship_tag": "ABX9TyNogF+DTHE+LlXZs0C9HhCy",
      "include_colab_link": true
    },
    "kernelspec": {
      "name": "python3",
      "display_name": "Python 3"
    },
    "language_info": {
      "name": "python"
    }
  },
  "cells": [
    {
      "cell_type": "markdown",
      "metadata": {
        "id": "view-in-github",
        "colab_type": "text"
      },
      "source": [
        "<a href=\"https://colab.research.google.com/github/jasmithaa07/python-projects/blob/main/Gestures.ipynb\" target=\"_parent\"><img src=\"https://colab.research.google.com/assets/colab-badge.svg\" alt=\"Open In Colab\"/></a>"
      ]
    },
    {
      "cell_type": "code",
      "source": [
        "# Step 1: Import Libraries\n",
        "import cv2\n",
        "import mediapipe as mp\n",
        "\n",
        "# Step 2: Initialize MediaPipe Hands\n",
        "mp_hands = mp.solutions.hands\n",
        "hands = mp_hands.Hands(min_detection_confidence=0.7, min_tracking_confidence=0.7)\n",
        "mp_draw = mp.solutions.drawing_utils\n",
        "\n",
        "# Step 3: Initialize Video Capture\n",
        "cap = cv2.VideoCapture(0)\n",
        "\n",
        "# Step 4: Capture and Process Each Frame\n",
        "while cap.isOpened():\n",
        "    ret, frame = cap.read()\n",
        "    if not ret:\n",
        "        break\n",
        "\n",
        "    # Flip the frame horizontally for a later selfie-view display\n",
        "    frame = cv2.flip(frame, 1)\n",
        "    frame_rgb = cv2.cvtColor(frame, cv2.COLOR_BGR2RGB)\n",
        "    results = hands.process(frame_rgb)\n",
        "\n",
        "    if results.multi_hand_landmarks:\n",
        "        for hand_landmarks in results.multi_hand_landmarks:\n",
        "            mp_draw.draw_landmarks(frame, hand_landmarks, mp_hands.HAND_CONNECTIONS)\n",
        "\n",
        "            landmark_list = []\n",
        "            for id, lm in enumerate(hand_landmarks.landmark):\n",
        "                h, w, c = frame.shape\n",
        "                cx, cy = int(lm.x * w), int(lm.y * h)\n",
        "                landmark_list.append([cx, cy])\n",
        "\n",
        "            # Ensure landmark_list has at least 21 landmarks\n",
        "            if len(landmark_list) >= 21:\n",
        "                # Print debug information\n",
        "                print(f\"Landmark List: {landmark_list}\")\n",
        "\n",
        "                if (landmark_list[4][1] < landmark_list[3][1] and\n",
        "                        landmark_list[8][1] < landmark_list[6][1]):\n",
        "                    gesture = \"Syntax Sarcasm\"\n",
        "                elif (landmark_list[4][1] > landmark_list[3][1] and\n",
        "                        landmark_list[8][1] > landmark_list[6][1]):\n",
        "                    gesture = \"Hello All\"\n",
        "                else:\n",
        "                    gesture = \"None\"\n",
        "\n",
        "                cv2.putText(frame, gesture, (landmark_list[0][0] - 50, landmark_list[0][1] - 50),\n",
        "                            cv2.FONT_HERSHEY_SIMPLEX, 2, (0, 255, 0), 3, cv2.LINE_AA)\n",
        "            else:\n",
        "                print(\"Incomplete hand landmark detection. Skipping frame.\")\n",
        "\n",
        "    # Step 5: Display the Frame\n",
        "    cv2.imshow('Hand Gesture Recognition', frame)\n",
        "    if cv2.waitKey(1) & 0xFF == ord('q'):\n",
        "        break\n",
        "\n",
        "# Step 6: Release Resources\n",
        "cap.release()\n",
        "cv2.destroyAllWindows()\n"
      ],
      "metadata": {
        "id": "Q6U4Nc2Q6smQ"
      },
      "execution_count": null,
      "outputs": []
    }
  ]
}