{
  "nbformat": 4,
  "nbformat_minor": 0,
  "metadata": {
    "colab": {
      "provenance": [],
      "authorship_tag": "ABX9TyMG4FVNlJx+98wLRb1mLEBG",
      "include_colab_link": true
    },
    "kernelspec": {
      "name": "python3",
      "display_name": "Python 3"
    },
    "language_info": {
      "name": "python"
    }
  },
  "cells": [
    {
      "cell_type": "markdown",
      "metadata": {
        "id": "view-in-github",
        "colab_type": "text"
      },
      "source": [
        "<a href=\"https://colab.research.google.com/github/jasmithaa07/python-projects/blob/main/digits.ipynb\" target=\"_parent\"><img src=\"https://colab.research.google.com/assets/colab-badge.svg\" alt=\"Open In Colab\"/></a>"
      ]
    },
    {
      "cell_type": "code",
      "execution_count": null,
      "metadata": {
        "id": "Qoj_bk8n9CtB"
      },
      "outputs": [],
      "source": [
        "#import packages like tensorflow , pandas , matplotlib , numpy\n",
        "#cmd/terminal - pip install pandas  numpy matplotlib tensorflow pillow\n",
        "#after installing write the following code.\n",
        "\n",
        "import ssl\n",
        "ssl._create_default_https_context = ssl._create_unverified_context\n",
        "import tensorflow as tf\n",
        "from tensorflow.keras.datasets import mnist\n",
        "import matplotlib.pyplot as plt\n",
        "from tensorflow.keras.models import Sequential\n",
        "from tensorflow.keras.layers import Dense, Flatten\n",
        "from PIL import Image, ImageOps\n",
        "import numpy as np\n",
        "# Load the dataset\n",
        "(x_train, y_train), (x_test, y_test) = mnist.load_data()\n",
        "# Normalize the data\n",
        "x_train, x_test = x_train / 255.0, x_test / 255.0\n",
        "# Display the first image in the training dataset\n",
        "plt.imshow(x_train[0], cmap='gray')\n",
        "plt.show()\n",
        "# Build the model\n",
        "model = Sequential([\n",
        " Flatten(input_shape=(28, 28)),\n",
        " Dense(128, activation='relu'),\n",
        " Dense(10, activation='softmax')\n",
        "])\n",
        "# Compile the model\n",
        "model.compile(optimizer='adam',\n",
        " loss='sparse_categorical_crossentropy',\n",
        " metrics=['accuracy'])\n",
        "# Train the model\n",
        "model.fit(x_train, y_train, epochs=10) # Increase the number of epochs\n",
        "# Evaluate the model\n",
        "loss, accuracy = model.evaluate(x_test, y_test)\n",
        "print(f\"Accuracy: {accuracy * 100:.2f}%\")\n",
        "# Function to preprocess the image\n",
        "def preprocess_image(image_path):\n",
        " img = Image.open(image_path).convert('L')\n",
        " img = ImageOps.invert(img)\n",
        " img = img.resize((28, 28))\n",
        " img = np.array(img) / 255.0\n",
        " img = img.reshape(1, 28, 28)\n",
        " return img\n",
        "# Path to the handwritten digit image\n",
        "image_path = 'digit.png'\n",
        "new_image = preprocess_image(image_path)\n",
        "# Predict the digit\n",
        "prediction = model.predict(new_image)\n",
        "predicted_digit = np.argmax(prediction)\n",
        "print(f\"Predicted Digit: {predicted_digit}\")\n",
        "# Display the test image and the predicted digit\n",
        "plt.imshow(new_image.reshape(28, 28), cmap='gray')\n",
        "plt.title(f\"Predicted Digit: {predicted_digit}\")\n",
        "plt.show()\n",
        "\n",
        "\n",
        "#after writing the code execute the following commands in terminal\n",
        "# python -m venv env\n",
        "#.\\env\\Scripts\\activate - to activate the env module and go into the virtual environment\n",
        "# now run the code with the command - python digits.py\n",
        "# you need to save an image with the same name as the python file and write a number in that image\n",
        "# the output of the code gives the image of the number\n",
        "# the more you train the model the more accurate the number is.\n"
      ]
    }
  ]
}